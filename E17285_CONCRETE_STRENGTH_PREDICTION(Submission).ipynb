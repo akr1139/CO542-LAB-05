{
  "nbformat": 4,
  "nbformat_minor": 0,
  "metadata": {
    "colab": {
      "provenance": [],
      "collapsed_sections": [
        "6aiXYi1FuVzR",
        "qNjIfjopysT_",
        "CkfzcUqM0rcE",
        "8eylaCSm3Uh1",
        "de26VeLk_1ar",
        "k0xPLdXIAuOn",
        "jRkH5e3JD78A",
        "td7oZgbLnvTq",
        "CpeLDbEO0e6s"
      ],
      "include_colab_link": true
    },
    "kernelspec": {
      "name": "python3",
      "display_name": "Python 3"
    },
    "accelerator": "TPU"
  },
  "cells": [
    {
      "cell_type": "markdown",
      "metadata": {
        "id": "view-in-github",
        "colab_type": "text"
      },
      "source": [
        "<a href=\"https://colab.research.google.com/github/akr1139/CO542-LAB-05/blob/main/E17285_CONCRETE_STRENGTH_PREDICTION(Submission).ipynb\" target=\"_parent\"><img src=\"https://colab.research.google.com/assets/colab-badge.svg\" alt=\"Open In Colab\"/></a>"
      ]
    },
    {
      "cell_type": "markdown",
      "metadata": {
        "id": "KDtDklF80oo3"
      },
      "source": [
        "# **importing the necessary libraries**"
      ]
    },
    {
      "cell_type": "code",
      "metadata": {
        "id": "axsB0DJLz0Nc"
      },
      "source": [
        "import numpy as np\n",
        "import seaborn as sns\n",
        "import matplotlib.pyplot as plt\n",
        "import pandas as pd\n",
        "from sklearn.model_selection import train_test_split\n",
        "from sklearn.preprocessing import StandardScaler\n",
        "from sklearn.linear_model import LinearRegression,  Lasso, Ridge\n",
        "from sklearn.metrics import mean_squared_error, mean_absolute_error, r2_score\n",
        "from sklearn.tree import DecisionTreeRegressor\n",
        "from sklearn.ensemble import RandomForestRegressor\n",
        "from sklearn.neural_network import MLPClassifier\n",
        "from sklearn.preprocessing import LabelEncoder, StandardScaler"
      ],
      "execution_count": 99,
      "outputs": []
    },
    {
      "cell_type": "markdown",
      "metadata": {
        "id": "VOw_ok3s79DE"
      },
      "source": [
        "# **ignoring the warnings**"
      ]
    },
    {
      "cell_type": "code",
      "metadata": {
        "id": "tz9mcHF02nie"
      },
      "source": [
        "import warnings\n",
        "warnings.filterwarnings('ignore',category = DeprecationWarning)\n",
        "warnings.filterwarnings('ignore',category = UserWarning)\n",
        "warnings.filterwarnings('ignore',category = RuntimeWarning)\n",
        "warnings.filterwarnings('ignore',category = FutureWarning)"
      ],
      "execution_count": 100,
      "outputs": []
    },
    {
      "cell_type": "markdown",
      "metadata": {
        "id": "wHXE6kAq8dDe"
      },
      "source": [
        "# **setting the no.of rows and columns**"
      ]
    },
    {
      "cell_type": "code",
      "metadata": {
        "id": "O9Otfe0V76FM"
      },
      "source": [
        "pd.set_option('display.max_rows',100000)\n",
        "pd.set_option('display.max_columns',1000)"
      ],
      "execution_count": 101,
      "outputs": []
    },
    {
      "cell_type": "markdown",
      "metadata": {
        "id": "p4I1y4eY9WkL"
      },
      "source": [
        "# **Mount the google drive**"
      ]
    },
    {
      "cell_type": "code",
      "metadata": {
        "id": "TS0QJmx28bQi",
        "outputId": "00ed5de2-4406-47d4-fe54-d10fd1306170",
        "colab": {
          "base_uri": "https://localhost:8080/"
        }
      },
      "source": [
        "from google.colab import drive\n",
        "drive.mount('/gdrive')\n",
        "from google.colab import drive\n",
        "drive.mount('/content/drive')"
      ],
      "execution_count": 102,
      "outputs": [
        {
          "output_type": "stream",
          "name": "stdout",
          "text": [
            "Mounted at /gdrive\n",
            "Mounted at /content/drive\n"
          ]
        }
      ]
    },
    {
      "cell_type": "markdown",
      "metadata": {
        "id": "Ye_XvOa6-n74"
      },
      "source": [
        "# **1.Load the dataset as a Pandas dataframe**"
      ]
    },
    {
      "cell_type": "code",
      "metadata": {
        "id": "TjtE3vYU9sHt"
      },
      "source": [
        "data = pd.read_excel('/content/drive/MyDrive/CO 542/LAB 05/Concrete_Data.xls')"
      ],
      "execution_count": 103,
      "outputs": []
    },
    {
      "cell_type": "markdown",
      "source": [
        "# Check how is the dataSet"
      ],
      "metadata": {
        "id": "6l0-XKlNFrvv"
      }
    },
    {
      "cell_type": "code",
      "metadata": {
        "id": "KbYZTM2O-ib4",
        "colab": {
          "base_uri": "https://localhost:8080/",
          "height": 181
        },
        "outputId": "abc2a453-791e-4484-d02c-69351388f894"
      },
      "source": [
        "data.head(2) #display 2 first values of the dataSet"
      ],
      "execution_count": 104,
      "outputs": [
        {
          "output_type": "execute_result",
          "data": {
            "text/plain": [
              "   Cement (component 1)(kg in a m^3 mixture)  \\\n",
              "0                                      540.0   \n",
              "1                                      540.0   \n",
              "\n",
              "   Blast Furnace Slag (component 2)(kg in a m^3 mixture)  \\\n",
              "0                                                0.0       \n",
              "1                                                0.0       \n",
              "\n",
              "   Fly Ash (component 3)(kg in a m^3 mixture)  \\\n",
              "0                                         0.0   \n",
              "1                                         0.0   \n",
              "\n",
              "   Water  (component 4)(kg in a m^3 mixture)  \\\n",
              "0                                      162.0   \n",
              "1                                      162.0   \n",
              "\n",
              "   Superplasticizer (component 5)(kg in a m^3 mixture)  \\\n",
              "0                                                2.5     \n",
              "1                                                2.5     \n",
              "\n",
              "   Coarse Aggregate  (component 6)(kg in a m^3 mixture)  \\\n",
              "0                                             1040.0      \n",
              "1                                             1055.0      \n",
              "\n",
              "   Fine Aggregate (component 7)(kg in a m^3 mixture)  Age (day)  \\\n",
              "0                                              676.0         28   \n",
              "1                                              676.0         28   \n",
              "\n",
              "   Concrete compressive strength(MPa, megapascals)   \n",
              "0                                         79.986111  \n",
              "1                                         61.887366  "
            ],
            "text/html": [
              "\n",
              "  <div id=\"df-924d6988-bc8f-4e70-bfcd-1a16ad547ef2\" class=\"colab-df-container\">\n",
              "    <div>\n",
              "<style scoped>\n",
              "    .dataframe tbody tr th:only-of-type {\n",
              "        vertical-align: middle;\n",
              "    }\n",
              "\n",
              "    .dataframe tbody tr th {\n",
              "        vertical-align: top;\n",
              "    }\n",
              "\n",
              "    .dataframe thead th {\n",
              "        text-align: right;\n",
              "    }\n",
              "</style>\n",
              "<table border=\"1\" class=\"dataframe\">\n",
              "  <thead>\n",
              "    <tr style=\"text-align: right;\">\n",
              "      <th></th>\n",
              "      <th>Cement (component 1)(kg in a m^3 mixture)</th>\n",
              "      <th>Blast Furnace Slag (component 2)(kg in a m^3 mixture)</th>\n",
              "      <th>Fly Ash (component 3)(kg in a m^3 mixture)</th>\n",
              "      <th>Water  (component 4)(kg in a m^3 mixture)</th>\n",
              "      <th>Superplasticizer (component 5)(kg in a m^3 mixture)</th>\n",
              "      <th>Coarse Aggregate  (component 6)(kg in a m^3 mixture)</th>\n",
              "      <th>Fine Aggregate (component 7)(kg in a m^3 mixture)</th>\n",
              "      <th>Age (day)</th>\n",
              "      <th>Concrete compressive strength(MPa, megapascals)</th>\n",
              "    </tr>\n",
              "  </thead>\n",
              "  <tbody>\n",
              "    <tr>\n",
              "      <th>0</th>\n",
              "      <td>540.0</td>\n",
              "      <td>0.0</td>\n",
              "      <td>0.0</td>\n",
              "      <td>162.0</td>\n",
              "      <td>2.5</td>\n",
              "      <td>1040.0</td>\n",
              "      <td>676.0</td>\n",
              "      <td>28</td>\n",
              "      <td>79.986111</td>\n",
              "    </tr>\n",
              "    <tr>\n",
              "      <th>1</th>\n",
              "      <td>540.0</td>\n",
              "      <td>0.0</td>\n",
              "      <td>0.0</td>\n",
              "      <td>162.0</td>\n",
              "      <td>2.5</td>\n",
              "      <td>1055.0</td>\n",
              "      <td>676.0</td>\n",
              "      <td>28</td>\n",
              "      <td>61.887366</td>\n",
              "    </tr>\n",
              "  </tbody>\n",
              "</table>\n",
              "</div>\n",
              "    <div class=\"colab-df-buttons\">\n",
              "\n",
              "  <div class=\"colab-df-container\">\n",
              "    <button class=\"colab-df-convert\" onclick=\"convertToInteractive('df-924d6988-bc8f-4e70-bfcd-1a16ad547ef2')\"\n",
              "            title=\"Convert this dataframe to an interactive table.\"\n",
              "            style=\"display:none;\">\n",
              "\n",
              "  <svg xmlns=\"http://www.w3.org/2000/svg\" height=\"24px\" viewBox=\"0 -960 960 960\">\n",
              "    <path d=\"M120-120v-720h720v720H120Zm60-500h600v-160H180v160Zm220 220h160v-160H400v160Zm0 220h160v-160H400v160ZM180-400h160v-160H180v160Zm440 0h160v-160H620v160ZM180-180h160v-160H180v160Zm440 0h160v-160H620v160Z\"/>\n",
              "  </svg>\n",
              "    </button>\n",
              "\n",
              "  <style>\n",
              "    .colab-df-container {\n",
              "      display:flex;\n",
              "      gap: 12px;\n",
              "    }\n",
              "\n",
              "    .colab-df-convert {\n",
              "      background-color: #E8F0FE;\n",
              "      border: none;\n",
              "      border-radius: 50%;\n",
              "      cursor: pointer;\n",
              "      display: none;\n",
              "      fill: #1967D2;\n",
              "      height: 32px;\n",
              "      padding: 0 0 0 0;\n",
              "      width: 32px;\n",
              "    }\n",
              "\n",
              "    .colab-df-convert:hover {\n",
              "      background-color: #E2EBFA;\n",
              "      box-shadow: 0px 1px 2px rgba(60, 64, 67, 0.3), 0px 1px 3px 1px rgba(60, 64, 67, 0.15);\n",
              "      fill: #174EA6;\n",
              "    }\n",
              "\n",
              "    .colab-df-buttons div {\n",
              "      margin-bottom: 4px;\n",
              "    }\n",
              "\n",
              "    [theme=dark] .colab-df-convert {\n",
              "      background-color: #3B4455;\n",
              "      fill: #D2E3FC;\n",
              "    }\n",
              "\n",
              "    [theme=dark] .colab-df-convert:hover {\n",
              "      background-color: #434B5C;\n",
              "      box-shadow: 0px 1px 3px 1px rgba(0, 0, 0, 0.15);\n",
              "      filter: drop-shadow(0px 1px 2px rgba(0, 0, 0, 0.3));\n",
              "      fill: #FFFFFF;\n",
              "    }\n",
              "  </style>\n",
              "\n",
              "    <script>\n",
              "      const buttonEl =\n",
              "        document.querySelector('#df-924d6988-bc8f-4e70-bfcd-1a16ad547ef2 button.colab-df-convert');\n",
              "      buttonEl.style.display =\n",
              "        google.colab.kernel.accessAllowed ? 'block' : 'none';\n",
              "\n",
              "      async function convertToInteractive(key) {\n",
              "        const element = document.querySelector('#df-924d6988-bc8f-4e70-bfcd-1a16ad547ef2');\n",
              "        const dataTable =\n",
              "          await google.colab.kernel.invokeFunction('convertToInteractive',\n",
              "                                                    [key], {});\n",
              "        if (!dataTable) return;\n",
              "\n",
              "        const docLinkHtml = 'Like what you see? Visit the ' +\n",
              "          '<a target=\"_blank\" href=https://colab.research.google.com/notebooks/data_table.ipynb>data table notebook</a>'\n",
              "          + ' to learn more about interactive tables.';\n",
              "        element.innerHTML = '';\n",
              "        dataTable['output_type'] = 'display_data';\n",
              "        await google.colab.output.renderOutput(dataTable, element);\n",
              "        const docLink = document.createElement('div');\n",
              "        docLink.innerHTML = docLinkHtml;\n",
              "        element.appendChild(docLink);\n",
              "      }\n",
              "    </script>\n",
              "  </div>\n",
              "\n",
              "\n",
              "<div id=\"df-e2de79da-d779-47b2-ab9f-db572e4a947e\">\n",
              "  <button class=\"colab-df-quickchart\" onclick=\"quickchart('df-e2de79da-d779-47b2-ab9f-db572e4a947e')\"\n",
              "            title=\"Suggest charts.\"\n",
              "            style=\"display:none;\">\n",
              "\n",
              "<svg xmlns=\"http://www.w3.org/2000/svg\" height=\"24px\"viewBox=\"0 0 24 24\"\n",
              "     width=\"24px\">\n",
              "    <g>\n",
              "        <path d=\"M19 3H5c-1.1 0-2 .9-2 2v14c0 1.1.9 2 2 2h14c1.1 0 2-.9 2-2V5c0-1.1-.9-2-2-2zM9 17H7v-7h2v7zm4 0h-2V7h2v10zm4 0h-2v-4h2v4z\"/>\n",
              "    </g>\n",
              "</svg>\n",
              "  </button>\n",
              "\n",
              "<style>\n",
              "  .colab-df-quickchart {\n",
              "      --bg-color: #E8F0FE;\n",
              "      --fill-color: #1967D2;\n",
              "      --hover-bg-color: #E2EBFA;\n",
              "      --hover-fill-color: #174EA6;\n",
              "      --disabled-fill-color: #AAA;\n",
              "      --disabled-bg-color: #DDD;\n",
              "  }\n",
              "\n",
              "  [theme=dark] .colab-df-quickchart {\n",
              "      --bg-color: #3B4455;\n",
              "      --fill-color: #D2E3FC;\n",
              "      --hover-bg-color: #434B5C;\n",
              "      --hover-fill-color: #FFFFFF;\n",
              "      --disabled-bg-color: #3B4455;\n",
              "      --disabled-fill-color: #666;\n",
              "  }\n",
              "\n",
              "  .colab-df-quickchart {\n",
              "    background-color: var(--bg-color);\n",
              "    border: none;\n",
              "    border-radius: 50%;\n",
              "    cursor: pointer;\n",
              "    display: none;\n",
              "    fill: var(--fill-color);\n",
              "    height: 32px;\n",
              "    padding: 0;\n",
              "    width: 32px;\n",
              "  }\n",
              "\n",
              "  .colab-df-quickchart:hover {\n",
              "    background-color: var(--hover-bg-color);\n",
              "    box-shadow: 0 1px 2px rgba(60, 64, 67, 0.3), 0 1px 3px 1px rgba(60, 64, 67, 0.15);\n",
              "    fill: var(--button-hover-fill-color);\n",
              "  }\n",
              "\n",
              "  .colab-df-quickchart-complete:disabled,\n",
              "  .colab-df-quickchart-complete:disabled:hover {\n",
              "    background-color: var(--disabled-bg-color);\n",
              "    fill: var(--disabled-fill-color);\n",
              "    box-shadow: none;\n",
              "  }\n",
              "\n",
              "  .colab-df-spinner {\n",
              "    border: 2px solid var(--fill-color);\n",
              "    border-color: transparent;\n",
              "    border-bottom-color: var(--fill-color);\n",
              "    animation:\n",
              "      spin 1s steps(1) infinite;\n",
              "  }\n",
              "\n",
              "  @keyframes spin {\n",
              "    0% {\n",
              "      border-color: transparent;\n",
              "      border-bottom-color: var(--fill-color);\n",
              "      border-left-color: var(--fill-color);\n",
              "    }\n",
              "    20% {\n",
              "      border-color: transparent;\n",
              "      border-left-color: var(--fill-color);\n",
              "      border-top-color: var(--fill-color);\n",
              "    }\n",
              "    30% {\n",
              "      border-color: transparent;\n",
              "      border-left-color: var(--fill-color);\n",
              "      border-top-color: var(--fill-color);\n",
              "      border-right-color: var(--fill-color);\n",
              "    }\n",
              "    40% {\n",
              "      border-color: transparent;\n",
              "      border-right-color: var(--fill-color);\n",
              "      border-top-color: var(--fill-color);\n",
              "    }\n",
              "    60% {\n",
              "      border-color: transparent;\n",
              "      border-right-color: var(--fill-color);\n",
              "    }\n",
              "    80% {\n",
              "      border-color: transparent;\n",
              "      border-right-color: var(--fill-color);\n",
              "      border-bottom-color: var(--fill-color);\n",
              "    }\n",
              "    90% {\n",
              "      border-color: transparent;\n",
              "      border-bottom-color: var(--fill-color);\n",
              "    }\n",
              "  }\n",
              "</style>\n",
              "\n",
              "  <script>\n",
              "    async function quickchart(key) {\n",
              "      const quickchartButtonEl =\n",
              "        document.querySelector('#' + key + ' button');\n",
              "      quickchartButtonEl.disabled = true;  // To prevent multiple clicks.\n",
              "      quickchartButtonEl.classList.add('colab-df-spinner');\n",
              "      try {\n",
              "        const charts = await google.colab.kernel.invokeFunction(\n",
              "            'suggestCharts', [key], {});\n",
              "      } catch (error) {\n",
              "        console.error('Error during call to suggestCharts:', error);\n",
              "      }\n",
              "      quickchartButtonEl.classList.remove('colab-df-spinner');\n",
              "      quickchartButtonEl.classList.add('colab-df-quickchart-complete');\n",
              "    }\n",
              "    (() => {\n",
              "      let quickchartButtonEl =\n",
              "        document.querySelector('#df-e2de79da-d779-47b2-ab9f-db572e4a947e button');\n",
              "      quickchartButtonEl.style.display =\n",
              "        google.colab.kernel.accessAllowed ? 'block' : 'none';\n",
              "    })();\n",
              "  </script>\n",
              "</div>\n",
              "    </div>\n",
              "  </div>\n"
            ]
          },
          "metadata": {},
          "execution_count": 104
        }
      ]
    },
    {
      "cell_type": "code",
      "metadata": {
        "id": "wcYkLXYp-k1w",
        "colab": {
          "base_uri": "https://localhost:8080/"
        },
        "outputId": "9180af5d-beae-4c29-d876-397f433cebd4"
      },
      "source": [
        "len(data) #check the lenght of the dataSet"
      ],
      "execution_count": 105,
      "outputs": [
        {
          "output_type": "execute_result",
          "data": {
            "text/plain": [
              "1030"
            ]
          },
          "metadata": {},
          "execution_count": 105
        }
      ]
    },
    {
      "cell_type": "markdown",
      "metadata": {
        "id": "REegt8x-_TUp"
      },
      "source": [
        "# Change the column names into shorter form"
      ]
    },
    {
      "cell_type": "code",
      "metadata": {
        "id": "IR-twz2y_Dqv"
      },
      "source": [
        "req_col_names = [\"Cement\", \"BlastFurnaceSlag\", \"FlyAsh\", \"Water\", \"Superplasticizer\",\"CoarseAggregate\", \"FineAggregate\", \"Age\", \"CC_Strength\"]\n",
        "\n",
        "curr_col_names = list(data.columns)\n",
        "\n",
        "mapper = {}\n",
        "for i,name in enumerate(curr_col_names):\n",
        "  mapper[name] = req_col_names[i]\n",
        "\n",
        "data = data.rename(columns=mapper)"
      ],
      "execution_count": 106,
      "outputs": []
    },
    {
      "cell_type": "code",
      "metadata": {
        "id": "x_9uapoxAaWR",
        "colab": {
          "base_uri": "https://localhost:8080/",
          "height": 112
        },
        "outputId": "19bc436d-b84c-43c5-ab4b-ff67a46ee2f6"
      },
      "source": [
        "data.head(2)"
      ],
      "execution_count": 107,
      "outputs": [
        {
          "output_type": "execute_result",
          "data": {
            "text/plain": [
              "   Cement  BlastFurnaceSlag  FlyAsh  Water  Superplasticizer  CoarseAggregate  \\\n",
              "0   540.0               0.0     0.0  162.0               2.5           1040.0   \n",
              "1   540.0               0.0     0.0  162.0               2.5           1055.0   \n",
              "\n",
              "   FineAggregate  Age  CC_Strength  \n",
              "0          676.0   28    79.986111  \n",
              "1          676.0   28    61.887366  "
            ],
            "text/html": [
              "\n",
              "  <div id=\"df-14ee47e0-2efc-4b27-b5ca-62dd0b711c68\" class=\"colab-df-container\">\n",
              "    <div>\n",
              "<style scoped>\n",
              "    .dataframe tbody tr th:only-of-type {\n",
              "        vertical-align: middle;\n",
              "    }\n",
              "\n",
              "    .dataframe tbody tr th {\n",
              "        vertical-align: top;\n",
              "    }\n",
              "\n",
              "    .dataframe thead th {\n",
              "        text-align: right;\n",
              "    }\n",
              "</style>\n",
              "<table border=\"1\" class=\"dataframe\">\n",
              "  <thead>\n",
              "    <tr style=\"text-align: right;\">\n",
              "      <th></th>\n",
              "      <th>Cement</th>\n",
              "      <th>BlastFurnaceSlag</th>\n",
              "      <th>FlyAsh</th>\n",
              "      <th>Water</th>\n",
              "      <th>Superplasticizer</th>\n",
              "      <th>CoarseAggregate</th>\n",
              "      <th>FineAggregate</th>\n",
              "      <th>Age</th>\n",
              "      <th>CC_Strength</th>\n",
              "    </tr>\n",
              "  </thead>\n",
              "  <tbody>\n",
              "    <tr>\n",
              "      <th>0</th>\n",
              "      <td>540.0</td>\n",
              "      <td>0.0</td>\n",
              "      <td>0.0</td>\n",
              "      <td>162.0</td>\n",
              "      <td>2.5</td>\n",
              "      <td>1040.0</td>\n",
              "      <td>676.0</td>\n",
              "      <td>28</td>\n",
              "      <td>79.986111</td>\n",
              "    </tr>\n",
              "    <tr>\n",
              "      <th>1</th>\n",
              "      <td>540.0</td>\n",
              "      <td>0.0</td>\n",
              "      <td>0.0</td>\n",
              "      <td>162.0</td>\n",
              "      <td>2.5</td>\n",
              "      <td>1055.0</td>\n",
              "      <td>676.0</td>\n",
              "      <td>28</td>\n",
              "      <td>61.887366</td>\n",
              "    </tr>\n",
              "  </tbody>\n",
              "</table>\n",
              "</div>\n",
              "    <div class=\"colab-df-buttons\">\n",
              "\n",
              "  <div class=\"colab-df-container\">\n",
              "    <button class=\"colab-df-convert\" onclick=\"convertToInteractive('df-14ee47e0-2efc-4b27-b5ca-62dd0b711c68')\"\n",
              "            title=\"Convert this dataframe to an interactive table.\"\n",
              "            style=\"display:none;\">\n",
              "\n",
              "  <svg xmlns=\"http://www.w3.org/2000/svg\" height=\"24px\" viewBox=\"0 -960 960 960\">\n",
              "    <path d=\"M120-120v-720h720v720H120Zm60-500h600v-160H180v160Zm220 220h160v-160H400v160Zm0 220h160v-160H400v160ZM180-400h160v-160H180v160Zm440 0h160v-160H620v160ZM180-180h160v-160H180v160Zm440 0h160v-160H620v160Z\"/>\n",
              "  </svg>\n",
              "    </button>\n",
              "\n",
              "  <style>\n",
              "    .colab-df-container {\n",
              "      display:flex;\n",
              "      gap: 12px;\n",
              "    }\n",
              "\n",
              "    .colab-df-convert {\n",
              "      background-color: #E8F0FE;\n",
              "      border: none;\n",
              "      border-radius: 50%;\n",
              "      cursor: pointer;\n",
              "      display: none;\n",
              "      fill: #1967D2;\n",
              "      height: 32px;\n",
              "      padding: 0 0 0 0;\n",
              "      width: 32px;\n",
              "    }\n",
              "\n",
              "    .colab-df-convert:hover {\n",
              "      background-color: #E2EBFA;\n",
              "      box-shadow: 0px 1px 2px rgba(60, 64, 67, 0.3), 0px 1px 3px 1px rgba(60, 64, 67, 0.15);\n",
              "      fill: #174EA6;\n",
              "    }\n",
              "\n",
              "    .colab-df-buttons div {\n",
              "      margin-bottom: 4px;\n",
              "    }\n",
              "\n",
              "    [theme=dark] .colab-df-convert {\n",
              "      background-color: #3B4455;\n",
              "      fill: #D2E3FC;\n",
              "    }\n",
              "\n",
              "    [theme=dark] .colab-df-convert:hover {\n",
              "      background-color: #434B5C;\n",
              "      box-shadow: 0px 1px 3px 1px rgba(0, 0, 0, 0.15);\n",
              "      filter: drop-shadow(0px 1px 2px rgba(0, 0, 0, 0.3));\n",
              "      fill: #FFFFFF;\n",
              "    }\n",
              "  </style>\n",
              "\n",
              "    <script>\n",
              "      const buttonEl =\n",
              "        document.querySelector('#df-14ee47e0-2efc-4b27-b5ca-62dd0b711c68 button.colab-df-convert');\n",
              "      buttonEl.style.display =\n",
              "        google.colab.kernel.accessAllowed ? 'block' : 'none';\n",
              "\n",
              "      async function convertToInteractive(key) {\n",
              "        const element = document.querySelector('#df-14ee47e0-2efc-4b27-b5ca-62dd0b711c68');\n",
              "        const dataTable =\n",
              "          await google.colab.kernel.invokeFunction('convertToInteractive',\n",
              "                                                    [key], {});\n",
              "        if (!dataTable) return;\n",
              "\n",
              "        const docLinkHtml = 'Like what you see? Visit the ' +\n",
              "          '<a target=\"_blank\" href=https://colab.research.google.com/notebooks/data_table.ipynb>data table notebook</a>'\n",
              "          + ' to learn more about interactive tables.';\n",
              "        element.innerHTML = '';\n",
              "        dataTable['output_type'] = 'display_data';\n",
              "        await google.colab.output.renderOutput(dataTable, element);\n",
              "        const docLink = document.createElement('div');\n",
              "        docLink.innerHTML = docLinkHtml;\n",
              "        element.appendChild(docLink);\n",
              "      }\n",
              "    </script>\n",
              "  </div>\n",
              "\n",
              "\n",
              "<div id=\"df-bd24c62c-8080-4de6-9f24-e9e34e0396c6\">\n",
              "  <button class=\"colab-df-quickchart\" onclick=\"quickchart('df-bd24c62c-8080-4de6-9f24-e9e34e0396c6')\"\n",
              "            title=\"Suggest charts.\"\n",
              "            style=\"display:none;\">\n",
              "\n",
              "<svg xmlns=\"http://www.w3.org/2000/svg\" height=\"24px\"viewBox=\"0 0 24 24\"\n",
              "     width=\"24px\">\n",
              "    <g>\n",
              "        <path d=\"M19 3H5c-1.1 0-2 .9-2 2v14c0 1.1.9 2 2 2h14c1.1 0 2-.9 2-2V5c0-1.1-.9-2-2-2zM9 17H7v-7h2v7zm4 0h-2V7h2v10zm4 0h-2v-4h2v4z\"/>\n",
              "    </g>\n",
              "</svg>\n",
              "  </button>\n",
              "\n",
              "<style>\n",
              "  .colab-df-quickchart {\n",
              "      --bg-color: #E8F0FE;\n",
              "      --fill-color: #1967D2;\n",
              "      --hover-bg-color: #E2EBFA;\n",
              "      --hover-fill-color: #174EA6;\n",
              "      --disabled-fill-color: #AAA;\n",
              "      --disabled-bg-color: #DDD;\n",
              "  }\n",
              "\n",
              "  [theme=dark] .colab-df-quickchart {\n",
              "      --bg-color: #3B4455;\n",
              "      --fill-color: #D2E3FC;\n",
              "      --hover-bg-color: #434B5C;\n",
              "      --hover-fill-color: #FFFFFF;\n",
              "      --disabled-bg-color: #3B4455;\n",
              "      --disabled-fill-color: #666;\n",
              "  }\n",
              "\n",
              "  .colab-df-quickchart {\n",
              "    background-color: var(--bg-color);\n",
              "    border: none;\n",
              "    border-radius: 50%;\n",
              "    cursor: pointer;\n",
              "    display: none;\n",
              "    fill: var(--fill-color);\n",
              "    height: 32px;\n",
              "    padding: 0;\n",
              "    width: 32px;\n",
              "  }\n",
              "\n",
              "  .colab-df-quickchart:hover {\n",
              "    background-color: var(--hover-bg-color);\n",
              "    box-shadow: 0 1px 2px rgba(60, 64, 67, 0.3), 0 1px 3px 1px rgba(60, 64, 67, 0.15);\n",
              "    fill: var(--button-hover-fill-color);\n",
              "  }\n",
              "\n",
              "  .colab-df-quickchart-complete:disabled,\n",
              "  .colab-df-quickchart-complete:disabled:hover {\n",
              "    background-color: var(--disabled-bg-color);\n",
              "    fill: var(--disabled-fill-color);\n",
              "    box-shadow: none;\n",
              "  }\n",
              "\n",
              "  .colab-df-spinner {\n",
              "    border: 2px solid var(--fill-color);\n",
              "    border-color: transparent;\n",
              "    border-bottom-color: var(--fill-color);\n",
              "    animation:\n",
              "      spin 1s steps(1) infinite;\n",
              "  }\n",
              "\n",
              "  @keyframes spin {\n",
              "    0% {\n",
              "      border-color: transparent;\n",
              "      border-bottom-color: var(--fill-color);\n",
              "      border-left-color: var(--fill-color);\n",
              "    }\n",
              "    20% {\n",
              "      border-color: transparent;\n",
              "      border-left-color: var(--fill-color);\n",
              "      border-top-color: var(--fill-color);\n",
              "    }\n",
              "    30% {\n",
              "      border-color: transparent;\n",
              "      border-left-color: var(--fill-color);\n",
              "      border-top-color: var(--fill-color);\n",
              "      border-right-color: var(--fill-color);\n",
              "    }\n",
              "    40% {\n",
              "      border-color: transparent;\n",
              "      border-right-color: var(--fill-color);\n",
              "      border-top-color: var(--fill-color);\n",
              "    }\n",
              "    60% {\n",
              "      border-color: transparent;\n",
              "      border-right-color: var(--fill-color);\n",
              "    }\n",
              "    80% {\n",
              "      border-color: transparent;\n",
              "      border-right-color: var(--fill-color);\n",
              "      border-bottom-color: var(--fill-color);\n",
              "    }\n",
              "    90% {\n",
              "      border-color: transparent;\n",
              "      border-bottom-color: var(--fill-color);\n",
              "    }\n",
              "  }\n",
              "</style>\n",
              "\n",
              "  <script>\n",
              "    async function quickchart(key) {\n",
              "      const quickchartButtonEl =\n",
              "        document.querySelector('#' + key + ' button');\n",
              "      quickchartButtonEl.disabled = true;  // To prevent multiple clicks.\n",
              "      quickchartButtonEl.classList.add('colab-df-spinner');\n",
              "      try {\n",
              "        const charts = await google.colab.kernel.invokeFunction(\n",
              "            'suggestCharts', [key], {});\n",
              "      } catch (error) {\n",
              "        console.error('Error during call to suggestCharts:', error);\n",
              "      }\n",
              "      quickchartButtonEl.classList.remove('colab-df-spinner');\n",
              "      quickchartButtonEl.classList.add('colab-df-quickchart-complete');\n",
              "    }\n",
              "    (() => {\n",
              "      let quickchartButtonEl =\n",
              "        document.querySelector('#df-bd24c62c-8080-4de6-9f24-e9e34e0396c6 button');\n",
              "      quickchartButtonEl.style.display =\n",
              "        google.colab.kernel.accessAllowed ? 'block' : 'none';\n",
              "    })();\n",
              "  </script>\n",
              "</div>\n",
              "    </div>\n",
              "  </div>\n"
            ]
          },
          "metadata": {},
          "execution_count": 107
        }
      ]
    },
    {
      "cell_type": "code",
      "metadata": {
        "id": "3jyzxft4wp36",
        "colab": {
          "base_uri": "https://localhost:8080/"
        },
        "outputId": "aedf7dcb-3d89-4d63-9bc9-a48b25fce311"
      },
      "source": [
        "data.shape #find the shape of data"
      ],
      "execution_count": 108,
      "outputs": [
        {
          "output_type": "execute_result",
          "data": {
            "text/plain": [
              "(1030, 9)"
            ]
          },
          "metadata": {},
          "execution_count": 108
        }
      ]
    },
    {
      "cell_type": "markdown",
      "metadata": {
        "id": "1FmTMDeUww2w"
      },
      "source": [
        "total 1030 observations and 9 features"
      ]
    },
    {
      "cell_type": "markdown",
      "metadata": {
        "id": "yKzA9hC1tWIw"
      },
      "source": [
        "# **CHECKING FOR NULL VALUES**"
      ]
    },
    {
      "cell_type": "code",
      "metadata": {
        "id": "zMSfmvsgBZXU",
        "colab": {
          "base_uri": "https://localhost:8080/"
        },
        "outputId": "553d08b5-a735-4096-c912-7d7e2e42d65a"
      },
      "source": [
        "data.isnull().sum()"
      ],
      "execution_count": 109,
      "outputs": [
        {
          "output_type": "execute_result",
          "data": {
            "text/plain": [
              "Cement              0\n",
              "BlastFurnaceSlag    0\n",
              "FlyAsh              0\n",
              "Water               0\n",
              "Superplasticizer    0\n",
              "CoarseAggregate     0\n",
              "FineAggregate       0\n",
              "Age                 0\n",
              "CC_Strength         0\n",
              "dtype: int64"
            ]
          },
          "metadata": {},
          "execution_count": 109
        }
      ]
    },
    {
      "cell_type": "markdown",
      "metadata": {
        "id": "ecqFqal5tjfj"
      },
      "source": [
        "there are no null values in the data"
      ]
    },
    {
      "cell_type": "code",
      "metadata": {
        "id": "FEmwb-kduu73",
        "colab": {
          "base_uri": "https://localhost:8080/"
        },
        "outputId": "c0eadeb5-ca11-4c72-fa0e-5870bf948bd2"
      },
      "source": [
        "data.info()# data types of each column"
      ],
      "execution_count": 110,
      "outputs": [
        {
          "output_type": "stream",
          "name": "stdout",
          "text": [
            "<class 'pandas.core.frame.DataFrame'>\n",
            "RangeIndex: 1030 entries, 0 to 1029\n",
            "Data columns (total 9 columns):\n",
            " #   Column            Non-Null Count  Dtype  \n",
            "---  ------            --------------  -----  \n",
            " 0   Cement            1030 non-null   float64\n",
            " 1   BlastFurnaceSlag  1030 non-null   float64\n",
            " 2   FlyAsh            1030 non-null   float64\n",
            " 3   Water             1030 non-null   float64\n",
            " 4   Superplasticizer  1030 non-null   float64\n",
            " 5   CoarseAggregate   1030 non-null   float64\n",
            " 6   FineAggregate     1030 non-null   float64\n",
            " 7   Age               1030 non-null   int64  \n",
            " 8   CC_Strength       1030 non-null   float64\n",
            "dtypes: float64(8), int64(1)\n",
            "memory usage: 72.5 KB\n"
          ]
        }
      ]
    },
    {
      "cell_type": "markdown",
      "metadata": {
        "id": "WBDllRZ2t0SF"
      },
      "source": [
        "# Describe the data"
      ]
    },
    {
      "cell_type": "code",
      "metadata": {
        "id": "KDJaq-S3tgAn",
        "colab": {
          "base_uri": "https://localhost:8080/",
          "height": 331
        },
        "outputId": "d0b82a97-ed1d-4461-fe8d-31e393d9e8fe"
      },
      "source": [
        "# .T transpose of requred data\n",
        "data.describe().T #Get most valuable information of the dataSet"
      ],
      "execution_count": 111,
      "outputs": [
        {
          "output_type": "execute_result",
          "data": {
            "text/plain": [
              "                   count        mean         std         min         25%  \\\n",
              "Cement            1030.0  281.165631  104.507142  102.000000  192.375000   \n",
              "BlastFurnaceSlag  1030.0   73.895485   86.279104    0.000000    0.000000   \n",
              "FlyAsh            1030.0   54.187136   63.996469    0.000000    0.000000   \n",
              "Water             1030.0  181.566359   21.355567  121.750000  164.900000   \n",
              "Superplasticizer  1030.0    6.203112    5.973492    0.000000    0.000000   \n",
              "CoarseAggregate   1030.0  972.918592   77.753818  801.000000  932.000000   \n",
              "FineAggregate     1030.0  773.578883   80.175427  594.000000  730.950000   \n",
              "Age               1030.0   45.662136   63.169912    1.000000    7.000000   \n",
              "CC_Strength       1030.0   35.817836   16.705679    2.331808   23.707115   \n",
              "\n",
              "                         50%          75%          max  \n",
              "Cement            272.900000   350.000000   540.000000  \n",
              "BlastFurnaceSlag   22.000000   142.950000   359.400000  \n",
              "FlyAsh              0.000000   118.270000   200.100000  \n",
              "Water             185.000000   192.000000   247.000000  \n",
              "Superplasticizer    6.350000    10.160000    32.200000  \n",
              "CoarseAggregate   968.000000  1029.400000  1145.000000  \n",
              "FineAggregate     779.510000   824.000000   992.600000  \n",
              "Age                28.000000    56.000000   365.000000  \n",
              "CC_Strength        34.442774    46.136287    82.599225  "
            ],
            "text/html": [
              "\n",
              "  <div id=\"df-bae3bef7-9ed9-40fe-91f1-9d9cb5ebe613\" class=\"colab-df-container\">\n",
              "    <div>\n",
              "<style scoped>\n",
              "    .dataframe tbody tr th:only-of-type {\n",
              "        vertical-align: middle;\n",
              "    }\n",
              "\n",
              "    .dataframe tbody tr th {\n",
              "        vertical-align: top;\n",
              "    }\n",
              "\n",
              "    .dataframe thead th {\n",
              "        text-align: right;\n",
              "    }\n",
              "</style>\n",
              "<table border=\"1\" class=\"dataframe\">\n",
              "  <thead>\n",
              "    <tr style=\"text-align: right;\">\n",
              "      <th></th>\n",
              "      <th>count</th>\n",
              "      <th>mean</th>\n",
              "      <th>std</th>\n",
              "      <th>min</th>\n",
              "      <th>25%</th>\n",
              "      <th>50%</th>\n",
              "      <th>75%</th>\n",
              "      <th>max</th>\n",
              "    </tr>\n",
              "  </thead>\n",
              "  <tbody>\n",
              "    <tr>\n",
              "      <th>Cement</th>\n",
              "      <td>1030.0</td>\n",
              "      <td>281.165631</td>\n",
              "      <td>104.507142</td>\n",
              "      <td>102.000000</td>\n",
              "      <td>192.375000</td>\n",
              "      <td>272.900000</td>\n",
              "      <td>350.000000</td>\n",
              "      <td>540.000000</td>\n",
              "    </tr>\n",
              "    <tr>\n",
              "      <th>BlastFurnaceSlag</th>\n",
              "      <td>1030.0</td>\n",
              "      <td>73.895485</td>\n",
              "      <td>86.279104</td>\n",
              "      <td>0.000000</td>\n",
              "      <td>0.000000</td>\n",
              "      <td>22.000000</td>\n",
              "      <td>142.950000</td>\n",
              "      <td>359.400000</td>\n",
              "    </tr>\n",
              "    <tr>\n",
              "      <th>FlyAsh</th>\n",
              "      <td>1030.0</td>\n",
              "      <td>54.187136</td>\n",
              "      <td>63.996469</td>\n",
              "      <td>0.000000</td>\n",
              "      <td>0.000000</td>\n",
              "      <td>0.000000</td>\n",
              "      <td>118.270000</td>\n",
              "      <td>200.100000</td>\n",
              "    </tr>\n",
              "    <tr>\n",
              "      <th>Water</th>\n",
              "      <td>1030.0</td>\n",
              "      <td>181.566359</td>\n",
              "      <td>21.355567</td>\n",
              "      <td>121.750000</td>\n",
              "      <td>164.900000</td>\n",
              "      <td>185.000000</td>\n",
              "      <td>192.000000</td>\n",
              "      <td>247.000000</td>\n",
              "    </tr>\n",
              "    <tr>\n",
              "      <th>Superplasticizer</th>\n",
              "      <td>1030.0</td>\n",
              "      <td>6.203112</td>\n",
              "      <td>5.973492</td>\n",
              "      <td>0.000000</td>\n",
              "      <td>0.000000</td>\n",
              "      <td>6.350000</td>\n",
              "      <td>10.160000</td>\n",
              "      <td>32.200000</td>\n",
              "    </tr>\n",
              "    <tr>\n",
              "      <th>CoarseAggregate</th>\n",
              "      <td>1030.0</td>\n",
              "      <td>972.918592</td>\n",
              "      <td>77.753818</td>\n",
              "      <td>801.000000</td>\n",
              "      <td>932.000000</td>\n",
              "      <td>968.000000</td>\n",
              "      <td>1029.400000</td>\n",
              "      <td>1145.000000</td>\n",
              "    </tr>\n",
              "    <tr>\n",
              "      <th>FineAggregate</th>\n",
              "      <td>1030.0</td>\n",
              "      <td>773.578883</td>\n",
              "      <td>80.175427</td>\n",
              "      <td>594.000000</td>\n",
              "      <td>730.950000</td>\n",
              "      <td>779.510000</td>\n",
              "      <td>824.000000</td>\n",
              "      <td>992.600000</td>\n",
              "    </tr>\n",
              "    <tr>\n",
              "      <th>Age</th>\n",
              "      <td>1030.0</td>\n",
              "      <td>45.662136</td>\n",
              "      <td>63.169912</td>\n",
              "      <td>1.000000</td>\n",
              "      <td>7.000000</td>\n",
              "      <td>28.000000</td>\n",
              "      <td>56.000000</td>\n",
              "      <td>365.000000</td>\n",
              "    </tr>\n",
              "    <tr>\n",
              "      <th>CC_Strength</th>\n",
              "      <td>1030.0</td>\n",
              "      <td>35.817836</td>\n",
              "      <td>16.705679</td>\n",
              "      <td>2.331808</td>\n",
              "      <td>23.707115</td>\n",
              "      <td>34.442774</td>\n",
              "      <td>46.136287</td>\n",
              "      <td>82.599225</td>\n",
              "    </tr>\n",
              "  </tbody>\n",
              "</table>\n",
              "</div>\n",
              "    <div class=\"colab-df-buttons\">\n",
              "\n",
              "  <div class=\"colab-df-container\">\n",
              "    <button class=\"colab-df-convert\" onclick=\"convertToInteractive('df-bae3bef7-9ed9-40fe-91f1-9d9cb5ebe613')\"\n",
              "            title=\"Convert this dataframe to an interactive table.\"\n",
              "            style=\"display:none;\">\n",
              "\n",
              "  <svg xmlns=\"http://www.w3.org/2000/svg\" height=\"24px\" viewBox=\"0 -960 960 960\">\n",
              "    <path d=\"M120-120v-720h720v720H120Zm60-500h600v-160H180v160Zm220 220h160v-160H400v160Zm0 220h160v-160H400v160ZM180-400h160v-160H180v160Zm440 0h160v-160H620v160ZM180-180h160v-160H180v160Zm440 0h160v-160H620v160Z\"/>\n",
              "  </svg>\n",
              "    </button>\n",
              "\n",
              "  <style>\n",
              "    .colab-df-container {\n",
              "      display:flex;\n",
              "      gap: 12px;\n",
              "    }\n",
              "\n",
              "    .colab-df-convert {\n",
              "      background-color: #E8F0FE;\n",
              "      border: none;\n",
              "      border-radius: 50%;\n",
              "      cursor: pointer;\n",
              "      display: none;\n",
              "      fill: #1967D2;\n",
              "      height: 32px;\n",
              "      padding: 0 0 0 0;\n",
              "      width: 32px;\n",
              "    }\n",
              "\n",
              "    .colab-df-convert:hover {\n",
              "      background-color: #E2EBFA;\n",
              "      box-shadow: 0px 1px 2px rgba(60, 64, 67, 0.3), 0px 1px 3px 1px rgba(60, 64, 67, 0.15);\n",
              "      fill: #174EA6;\n",
              "    }\n",
              "\n",
              "    .colab-df-buttons div {\n",
              "      margin-bottom: 4px;\n",
              "    }\n",
              "\n",
              "    [theme=dark] .colab-df-convert {\n",
              "      background-color: #3B4455;\n",
              "      fill: #D2E3FC;\n",
              "    }\n",
              "\n",
              "    [theme=dark] .colab-df-convert:hover {\n",
              "      background-color: #434B5C;\n",
              "      box-shadow: 0px 1px 3px 1px rgba(0, 0, 0, 0.15);\n",
              "      filter: drop-shadow(0px 1px 2px rgba(0, 0, 0, 0.3));\n",
              "      fill: #FFFFFF;\n",
              "    }\n",
              "  </style>\n",
              "\n",
              "    <script>\n",
              "      const buttonEl =\n",
              "        document.querySelector('#df-bae3bef7-9ed9-40fe-91f1-9d9cb5ebe613 button.colab-df-convert');\n",
              "      buttonEl.style.display =\n",
              "        google.colab.kernel.accessAllowed ? 'block' : 'none';\n",
              "\n",
              "      async function convertToInteractive(key) {\n",
              "        const element = document.querySelector('#df-bae3bef7-9ed9-40fe-91f1-9d9cb5ebe613');\n",
              "        const dataTable =\n",
              "          await google.colab.kernel.invokeFunction('convertToInteractive',\n",
              "                                                    [key], {});\n",
              "        if (!dataTable) return;\n",
              "\n",
              "        const docLinkHtml = 'Like what you see? Visit the ' +\n",
              "          '<a target=\"_blank\" href=https://colab.research.google.com/notebooks/data_table.ipynb>data table notebook</a>'\n",
              "          + ' to learn more about interactive tables.';\n",
              "        element.innerHTML = '';\n",
              "        dataTable['output_type'] = 'display_data';\n",
              "        await google.colab.output.renderOutput(dataTable, element);\n",
              "        const docLink = document.createElement('div');\n",
              "        docLink.innerHTML = docLinkHtml;\n",
              "        element.appendChild(docLink);\n",
              "      }\n",
              "    </script>\n",
              "  </div>\n",
              "\n",
              "\n",
              "<div id=\"df-39451ee5-c43a-43e5-a809-18dc78fb3e03\">\n",
              "  <button class=\"colab-df-quickchart\" onclick=\"quickchart('df-39451ee5-c43a-43e5-a809-18dc78fb3e03')\"\n",
              "            title=\"Suggest charts.\"\n",
              "            style=\"display:none;\">\n",
              "\n",
              "<svg xmlns=\"http://www.w3.org/2000/svg\" height=\"24px\"viewBox=\"0 0 24 24\"\n",
              "     width=\"24px\">\n",
              "    <g>\n",
              "        <path d=\"M19 3H5c-1.1 0-2 .9-2 2v14c0 1.1.9 2 2 2h14c1.1 0 2-.9 2-2V5c0-1.1-.9-2-2-2zM9 17H7v-7h2v7zm4 0h-2V7h2v10zm4 0h-2v-4h2v4z\"/>\n",
              "    </g>\n",
              "</svg>\n",
              "  </button>\n",
              "\n",
              "<style>\n",
              "  .colab-df-quickchart {\n",
              "      --bg-color: #E8F0FE;\n",
              "      --fill-color: #1967D2;\n",
              "      --hover-bg-color: #E2EBFA;\n",
              "      --hover-fill-color: #174EA6;\n",
              "      --disabled-fill-color: #AAA;\n",
              "      --disabled-bg-color: #DDD;\n",
              "  }\n",
              "\n",
              "  [theme=dark] .colab-df-quickchart {\n",
              "      --bg-color: #3B4455;\n",
              "      --fill-color: #D2E3FC;\n",
              "      --hover-bg-color: #434B5C;\n",
              "      --hover-fill-color: #FFFFFF;\n",
              "      --disabled-bg-color: #3B4455;\n",
              "      --disabled-fill-color: #666;\n",
              "  }\n",
              "\n",
              "  .colab-df-quickchart {\n",
              "    background-color: var(--bg-color);\n",
              "    border: none;\n",
              "    border-radius: 50%;\n",
              "    cursor: pointer;\n",
              "    display: none;\n",
              "    fill: var(--fill-color);\n",
              "    height: 32px;\n",
              "    padding: 0;\n",
              "    width: 32px;\n",
              "  }\n",
              "\n",
              "  .colab-df-quickchart:hover {\n",
              "    background-color: var(--hover-bg-color);\n",
              "    box-shadow: 0 1px 2px rgba(60, 64, 67, 0.3), 0 1px 3px 1px rgba(60, 64, 67, 0.15);\n",
              "    fill: var(--button-hover-fill-color);\n",
              "  }\n",
              "\n",
              "  .colab-df-quickchart-complete:disabled,\n",
              "  .colab-df-quickchart-complete:disabled:hover {\n",
              "    background-color: var(--disabled-bg-color);\n",
              "    fill: var(--disabled-fill-color);\n",
              "    box-shadow: none;\n",
              "  }\n",
              "\n",
              "  .colab-df-spinner {\n",
              "    border: 2px solid var(--fill-color);\n",
              "    border-color: transparent;\n",
              "    border-bottom-color: var(--fill-color);\n",
              "    animation:\n",
              "      spin 1s steps(1) infinite;\n",
              "  }\n",
              "\n",
              "  @keyframes spin {\n",
              "    0% {\n",
              "      border-color: transparent;\n",
              "      border-bottom-color: var(--fill-color);\n",
              "      border-left-color: var(--fill-color);\n",
              "    }\n",
              "    20% {\n",
              "      border-color: transparent;\n",
              "      border-left-color: var(--fill-color);\n",
              "      border-top-color: var(--fill-color);\n",
              "    }\n",
              "    30% {\n",
              "      border-color: transparent;\n",
              "      border-left-color: var(--fill-color);\n",
              "      border-top-color: var(--fill-color);\n",
              "      border-right-color: var(--fill-color);\n",
              "    }\n",
              "    40% {\n",
              "      border-color: transparent;\n",
              "      border-right-color: var(--fill-color);\n",
              "      border-top-color: var(--fill-color);\n",
              "    }\n",
              "    60% {\n",
              "      border-color: transparent;\n",
              "      border-right-color: var(--fill-color);\n",
              "    }\n",
              "    80% {\n",
              "      border-color: transparent;\n",
              "      border-right-color: var(--fill-color);\n",
              "      border-bottom-color: var(--fill-color);\n",
              "    }\n",
              "    90% {\n",
              "      border-color: transparent;\n",
              "      border-bottom-color: var(--fill-color);\n",
              "    }\n",
              "  }\n",
              "</style>\n",
              "\n",
              "  <script>\n",
              "    async function quickchart(key) {\n",
              "      const quickchartButtonEl =\n",
              "        document.querySelector('#' + key + ' button');\n",
              "      quickchartButtonEl.disabled = true;  // To prevent multiple clicks.\n",
              "      quickchartButtonEl.classList.add('colab-df-spinner');\n",
              "      try {\n",
              "        const charts = await google.colab.kernel.invokeFunction(\n",
              "            'suggestCharts', [key], {});\n",
              "      } catch (error) {\n",
              "        console.error('Error during call to suggestCharts:', error);\n",
              "      }\n",
              "      quickchartButtonEl.classList.remove('colab-df-spinner');\n",
              "      quickchartButtonEl.classList.add('colab-df-quickchart-complete');\n",
              "    }\n",
              "    (() => {\n",
              "      let quickchartButtonEl =\n",
              "        document.querySelector('#df-39451ee5-c43a-43e5-a809-18dc78fb3e03 button');\n",
              "      quickchartButtonEl.style.display =\n",
              "        google.colab.kernel.accessAllowed ? 'block' : 'none';\n",
              "    })();\n",
              "  </script>\n",
              "</div>\n",
              "    </div>\n",
              "  </div>\n"
            ]
          },
          "metadata": {},
          "execution_count": 111
        }
      ]
    },
    {
      "cell_type": "markdown",
      "metadata": {
        "id": "ibDnIfNpydXr"
      },
      "source": [
        "# plotting the Pearson Correlation coefficients between the features."
      ]
    },
    {
      "cell_type": "code",
      "metadata": {
        "id": "RhVcQGp2ufo1",
        "colab": {
          "base_uri": "https://localhost:8080/",
          "height": 883
        },
        "outputId": "002b6f05-f504-48d2-98d9-95d41b6b2a20"
      },
      "source": [
        "corr = data.corr()\n",
        "\n",
        "plt.figure(figsize= (10,9))\n",
        "sns.heatmap(corr, annot = True, cmap = 'Blues')\n",
        "b, t = plt.ylim()\n",
        "plt.ylim(b+0.5, t-0.5)\n",
        "plt.title(\"Feature Correlation Heatmap\")\n",
        "plt.show()"
      ],
      "execution_count": 112,
      "outputs": [
        {
          "output_type": "display_data",
          "data": {
            "text/plain": [
              "<Figure size 1000x900 with 2 Axes>"
            ],
            "image/png": "[encoded data removed]"
          },
          "metadata": {}
        }
      ]
    },
    {
      "cell_type": "markdown",
      "metadata": {
        "id": "CP8px8_t0lqF"
      },
      "source": [
        "# **observations**"
      ]
    },
    {
      "cell_type": "markdown",
      "metadata": {
        "id": "puQRP1tf0uuW"
      },
      "source": [
        "### There are'nt any high correlations between Compressive strength and other features except for Cement, which should be the case for more strength."
      ]
    },
    {
      "cell_type": "markdown",
      "metadata": {
        "id": "oNeM_Di003RT"
      },
      "source": [
        "### Age and Super plasticizer are the other two features which are strongly correlated with Compressive Strength."
      ]
    },
    {
      "cell_type": "markdown",
      "metadata": {
        "id": "_4iPVLIj1CM8"
      },
      "source": [
        "### Super Plasticizer seems to have a negative high correlation with Water, positive correlations with Fly ash and Fine aggregate.\n",
        "\n"
      ]
    },
    {
      "cell_type": "markdown",
      "metadata": {
        "id": "HJHp8NO-1xms"
      },
      "source": [
        "We can further analyze these correlations visually by plotting these relations."
      ]
    },
    {
      "cell_type": "markdown",
      "metadata": {
        "id": "kkGyYnoV1_nE"
      },
      "source": [
        "# 2. Separate the dataset into features and labels.\n",
        "# Separating Input Features and Target Variable."
      ]
    },
    {
      "cell_type": "code",
      "source": [
        "# X = data.iloc[:,:-1]\n",
        "# # Features - All columns but last\n",
        "# y = data.iloc[:,-1]\n",
        "# # Target - Last Column\n",
        "\n",
        "# print(x)\n",
        "# print(y)"
      ],
      "metadata": {
        "id": "hQln4yt73n2t"
      },
      "execution_count": 113,
      "outputs": []
    },
    {
      "cell_type": "code",
      "source": [
        "#seperate features and labels\n",
        "features = data.iloc[:, 0:4]\n",
        "labels = data.iloc[:, 4:5]\n",
        "\n",
        "print(features.head())\n",
        "print(labels.head())"
      ],
      "metadata": {
        "id": "wVBXFTJPIoZo",
        "colab": {
          "base_uri": "https://localhost:8080/"
        },
        "outputId": "96c71409-a637-4048-cd2f-ae65898c8681"
      },
      "execution_count": 114,
      "outputs": [
        {
          "output_type": "stream",
          "name": "stdout",
          "text": [
            "   Cement  BlastFurnaceSlag  FlyAsh  Water\n",
            "0   540.0               0.0     0.0  162.0\n",
            "1   540.0               0.0     0.0  162.0\n",
            "2   332.5             142.5     0.0  228.0\n",
            "3   332.5             142.5     0.0  228.0\n",
            "4   198.6             132.4     0.0  192.0\n",
            "   Superplasticizer\n",
            "0               2.5\n",
            "1               2.5\n",
            "2               0.0\n",
            "3               0.0\n",
            "4               0.0\n"
          ]
        }
      ]
    },
    {
      "cell_type": "code",
      "source": [
        "#convert labels into numerical data\n",
        "leb_enc = LabelEncoder()\n",
        "leb_enc.fit(labels)\n",
        "labels = leb_enc.transform(labels)"
      ],
      "metadata": {
        "id": "25_JRgulI5rv"
      },
      "execution_count": 115,
      "outputs": []
    },
    {
      "cell_type": "markdown",
      "source": [
        "# 3. Split the data set as train and test data accordingly (E.g.: 90% training data, 10% test data)"
      ],
      "metadata": {
        "id": "o3lAXb0BkteP"
      }
    },
    {
      "cell_type": "code",
      "source": [
        "# 3\n",
        "from sklearn.model_selection import train_test_split\n",
        "\n",
        "#split data into test and train\n",
        "x_train, x_test, y_train, y_test = train_test_split(features,labels, train_size=0.9, test_size=0.1, random_state=1)\n"
      ],
      "metadata": {
        "id": "UiNsZF_o0ZJW"
      },
      "execution_count": 116,
      "outputs": []
    },
    {
      "cell_type": "markdown",
      "source": [
        "# 4. Scale the independent train and test datasets using Sklearn Standard Scaler.\n"
      ],
      "metadata": {
        "id": "z-dRB-mBlKke"
      }
    },
    {
      "cell_type": "markdown",
      "source": [
        "The scaler is fit on the training data and not on testing data. Since, we are training our model on rescaled Training data and the model performs well when the testing data follows same distribution. And if the scaler is fit on testing data again, this would result in testing data having a different mean and standard deviation. Resulting in loss of performance."
      ],
      "metadata": {
        "id": "gzPRsjkY4goC"
      }
    },
    {
      "cell_type": "code",
      "source": [
        "#4\n",
        "from sklearn.preprocessing import StandardScaler\n",
        "\n",
        "scaler = StandardScaler()\n",
        "x_train_scl = scaler.fit_transform(x_train)\n",
        "x_test_scl = scaler.transform(x_test)\n",
        "\n",
        "x_train_scl\n",
        "x_test_scl"
      ],
      "metadata": {
        "colab": {
          "base_uri": "https://localhost:8080/"
        },
        "id": "WJA1oWUN0pZ9",
        "outputId": "69886805-6179-4a2d-f1bb-2c81c097891e"
      },
      "execution_count": 117,
      "outputs": [
        {
          "output_type": "execute_result",
          "data": {
            "text/plain": [
              "array([[ 0.15598784, -0.8444379 ,  0.99533555, -0.32409712],\n",
              "       [-0.40631778, -0.8444379 ,  0.62977173,  0.23651595],\n",
              "       [-1.33905448,  0.69373282,  0.76847691,  0.86708749],\n",
              "       [-0.73498737,  0.72495885, -0.83856847,  0.19113749],\n",
              "       [-1.12977139,  1.54955714,  1.84504129,  1.62339517],\n",
              "       [-0.03398413,  0.28686932, -0.4569342 , -0.99059326],\n",
              "       [ 0.55590881, -0.8444379 , -0.83856847,  0.19113749],\n",
              "       [ 0.58254484, -0.40496055, -0.83856847,  2.19062593],\n",
              "       [ 0.88981047, -0.8444379 , -0.83856847,  0.40384903],\n",
              "       [-0.66649472,  2.81131974, -0.83856847,  0.19113749],\n",
              "       [-1.07316982, -0.35777456,  1.71756983, -2.83172978],\n",
              "       [-0.65412799,  0.78972393, -0.83856847,  1.03252979],\n",
              "       [ 0.30381781, -0.8444379 , -0.83856847, -0.16810866],\n",
              "       [-1.37710595,  1.42234001,  0.690465  ,  0.81981825],\n",
              "       [-0.40584214, -0.8444379 , -0.83856847,  0.19113749],\n",
              "       [-1.2153872 ,  1.91964332, -0.83856847,  0.86708749],\n",
              "       [-0.41154986,  1.90229553, -0.83856847,  2.19062593],\n",
              "       [-0.62654067, -0.22223049,  1.06320591, -1.23024826],\n",
              "       [ 0.0526781 ,  1.47900946, -0.83856847, -1.74690095],\n",
              "       [ 0.15598784, -0.8444379 ,  0.99533555, -0.32409712],\n",
              "       [-0.81889086, -0.8444379 ,  0.729783  , -0.75802865],\n",
              "       [-0.63985869, -0.8444379 ,  1.87999063, -1.06102442],\n",
              "       [ 0.47790329, -0.8444379 , -0.83856847,  0.48893364],\n",
              "       [ 0.71572499,  0.53182012, -0.83856847, -1.02368173],\n",
              "       [ 1.37211288,  0.38494216, -0.83856847, -1.43019711],\n",
              "       [ 0.07836284,  0.70182846, -0.83856847,  0.62601441],\n",
              "       [-0.97728011,  0.65672421,  1.01187408, -0.08113327],\n",
              "       [ 0.94403382,  0.25425547, -0.83856847,  2.19062593],\n",
              "       [-0.24507467,  0.30051625,  0.36281497,  0.34712595],\n",
              "       [-0.27960638, -0.8444379 ,  1.00672529,  0.32112788],\n",
              "       [ 0.94403382,  0.25425547, -0.83856847,  2.19062593],\n",
              "       [ 1.0106239 , -0.61313403,  0.62805547, -1.16548942],\n",
              "       [-0.73498737,  0.72495885, -0.83856847,  0.19113749],\n",
              "       [-0.3227948 , -0.8444379 ,  1.11297751, -1.81307787],\n",
              "       [ 1.37211288,  0.38494216, -0.83856847, -1.33093172],\n",
              "       [-0.17943588,  0.43351597,  0.50479665,  0.64964903],\n",
              "       [-0.42581916,  0.97129747, -0.83856847,  0.48893364],\n",
              "       [ 0.18300439, -0.8444379 , -0.83856847,  0.1107798 ],\n",
              "       [-1.21443591,  0.83251514,  0.92450074, -0.14920097],\n",
              "       [-0.97728011,  0.65672421,  1.01187408, -0.08113327],\n",
              "       [ 0.3618463 ,  1.6131657 , -0.83856847, -1.22693942],\n",
              "       [ 0.64913491, -0.8444379 , -0.83856847,  0.48893364],\n",
              "       [ 0.27718178,  0.80707172,  0.89641645, -0.65498173],\n",
              "       [ 0.43509539, -0.8444379 ,  1.31300006,  0.81981825],\n",
              "       [ 0.14219418, -0.8444379 ,  0.65364338, -0.47819481],\n",
              "       [-1.19445889,  1.28240117,  1.39569268,  0.57401826],\n",
              "       [ 0.55400624, -0.8444379 , -0.83856847,  0.15804903],\n",
              "       [-1.30100301,  0.7284284 ,  0.81528406, -0.17283558],\n",
              "       [ 0.93927739,  0.90421934, -0.83856847, -1.31202403],\n",
              "       [-0.6375756 , -0.8444379 ,  1.88779182, -1.26995442],\n",
              "       [-0.44665234, -0.8444379 ,  0.63710485,  0.76734941],\n",
              "       [ 0.27813307, -0.8444379 , -0.83856847,  0.48893364],\n",
              "       [ 2.32339967, -0.8444379 , -0.83856847,  0.34712595],\n",
              "       [ 2.08557797, -0.8444379 , -0.83856847,  0.86708749],\n",
              "       [ 0.89646948,  0.24037724, -0.83856847, -2.60247402],\n",
              "       [-0.44665234, -0.8444379 ,  0.63710485,  0.76734941],\n",
              "       [ 0.30952553,  2.18795581, -0.83856847, -0.29100866],\n",
              "       [-0.85694233, -0.8444379 ,  1.11797028, -0.92252557],\n",
              "       [-1.50457838,  1.28240117, -0.83856847,  1.03252979],\n",
              "       [-0.64870566, -0.8444379 ,  0.72775469, -1.05440673],\n",
              "       [-0.86341108,  1.35294885, -0.83856847,  2.19062593],\n",
              "       [ 1.39589505, -0.29509121, -0.83856847,  2.19062593],\n",
              "       [ 1.89532061, -0.8444379 , -0.83856847,  0.48893364],\n",
              "       [-1.01999289, -0.26559997,  1.86891294, -0.7982075 ],\n",
              "       [-1.25343867,  0.92503669,  2.1882937 ,  0.48893364],\n",
              "       [-1.12977139,  1.35294885,  1.47058412, -0.12556635],\n",
              "       [ 2.32339967, -0.8444379 , -0.83856847,  0.34712595],\n",
              "       [-1.01742442,  0.23540421,  1.65625247, -0.44037942],\n",
              "       [ 1.47675442, -0.8444379 , -0.83856847,  1.71793363],\n",
              "       [-0.6491813 , -0.8444379 ,  0.72744265, -1.0558248 ],\n",
              "       [ 1.02584448,  0.27854238, -0.83856847, -1.12294711],\n",
              "       [-0.55557468, -0.8444379 ,  0.66971383,  0.36083403],\n",
              "       [-0.17848459,  0.43929857,  0.50323641,  0.63074133],\n",
              "       [-1.19826404, -0.8444379 ,  1.38945173,  0.55038364],\n",
              "       [ 0.0526781 ,  1.47900946, -0.83856847, -1.74690095],\n",
              "       [ 1.36260001, -0.59000364,  1.220946  , -0.64552788],\n",
              "       [ 1.79067907,  0.51100277, -0.83856847, -2.07305864],\n",
              "       [-0.73498737,  2.68641565, -0.83856847,  1.03252979],\n",
              "       [ 1.0106239 , -0.61313403,  0.62805547, -1.16548942],\n",
              "       [ 0.16397865,  0.7399936 ,  0.83088644,  0.91435672],\n",
              "       [ 1.10575258, -0.8444379 , -0.83856847,  0.20531826],\n",
              "       [ 0.93927739,  0.90421934, -0.83856847, -1.31202403],\n",
              "       [ 0.58254484, -0.40496055, -0.83856847,  2.19062593],\n",
              "       [-0.63738534,  0.28964497, -0.45599805,  0.00395134],\n",
              "       [-0.03398413,  0.28686932, -0.4569342 , -0.99059326],\n",
              "       [ 1.02584448,  0.27854238, -0.83856847, -1.12294711],\n",
              "       [-0.6375756 , -0.8444379 ,  1.88779182, -1.26995442],\n",
              "       [ 0.93927739,  0.90421934, -0.83856847, -1.31202403],\n",
              "       [ 0.58254484, -0.40496055, -0.83856847,  2.19062593],\n",
              "       [ 0.38562847,  1.05456686, -0.83856847,  0.4180298 ],\n",
              "       [-1.22490007,  1.21416653,  1.33016268, -0.64552788],\n",
              "       [ 0.39228748, -0.8444379 ,  0.97130788,  0.67801056],\n",
              "       [-0.85694233, -0.8444379 ,  1.11797028, -0.92252557],\n",
              "       [ 0.14219418, -0.8444379 ,  0.65364338, -0.47819481],\n",
              "       [ 1.36260001, -0.59000364,  1.220946  , -0.64552788],\n",
              "       [ 1.50529303,  1.20260133, -0.83856847,  0.20531826],\n",
              "       [ 0.47790329, -0.8444379 , -0.83856847,  0.48893364],\n",
              "       [-0.81889086, -0.8444379 ,  0.729783  , -0.75802865],\n",
              "       [-0.94046531,  2.31054686, -0.83856847,  0.19113749],\n",
              "       [-0.03398413,  0.28686932, -0.4569342 , -0.99059326],\n",
              "       [-0.24222081,  0.29820321,  0.36281497,  0.32821826],\n",
              "       [ 1.5718831 , -0.56687326,  0.39401974, -0.92914326],\n",
              "       [-0.65346209, -0.8444379 ,  1.05899327, -0.06364366]])"
            ]
          },
          "metadata": {},
          "execution_count": 117
        }
      ]
    },
    {
      "cell_type": "code",
      "source": [
        "#Scale the x_train and x_test data\n",
        "scaler = StandardScaler()\n",
        "x_train = scaler.fit_transform(x_train)\n",
        "x_test = scaler.fit_transform(x_test)"
      ],
      "metadata": {
        "id": "OBnWM8cJJB5o"
      },
      "execution_count": 118,
      "outputs": []
    },
    {
      "cell_type": "markdown",
      "source": [
        "# 5. Model the MLP using MLPRegressor (Use hidden layers as (256,128,64,32))"
      ],
      "metadata": {
        "id": "12ybGWHylSxn"
      }
    },
    {
      "cell_type": "code",
      "source": [
        "# 5. Model the MLP using MLPRegressor (Use hidden layers as (256,128,64,32))\n",
        "# define the MLP and train\n",
        "\n",
        "from sklearn.neural_network import MLPRegressor\n",
        "mlp = MLPRegressor(hidden_layer_sizes=(256, 128, 64, 32), activation='logistic', max_iter=300, random_state=1)"
      ],
      "metadata": {
        "id": "7dd2RfRiNqyt"
      },
      "execution_count": 119,
      "outputs": []
    },
    {
      "cell_type": "markdown",
      "source": [
        "# Train the model"
      ],
      "metadata": {
        "id": "V2mSj8-R1I7I"
      }
    },
    {
      "cell_type": "code",
      "source": [
        "#6   Train the model\n",
        "mlp.fit(x_train_scl, y_train)"
      ],
      "metadata": {
        "colab": {
          "base_uri": "https://localhost:8080/",
          "height": 91
        },
        "id": "oNPpTmGW1Nc1",
        "outputId": "81687408-7996-4728-ff7b-603be877ba99"
      },
      "execution_count": 120,
      "outputs": [
        {
          "output_type": "execute_result",
          "data": {
            "text/plain": [
              "MLPRegressor(activation='logistic', hidden_layer_sizes=(256, 128, 64, 32),\n",
              "             max_iter=300, random_state=1)"
            ],
            "text/html": [
              "<style>#sk-container-id-7 {color: black;background-color: white;}#sk-container-id-7 pre{padding: 0;}#sk-container-id-7 div.sk-toggleable {background-color: white;}#sk-container-id-7 label.sk-toggleable__label {cursor: pointer;display: block;width: 100%;margin-bottom: 0;padding: 0.3em;box-sizing: border-box;text-align: center;}#sk-container-id-7 label.sk-toggleable__label-arrow:before {content: \"▸\";float: left;margin-right: 0.25em;color: #696969;}#sk-container-id-7 label.sk-toggleable__label-arrow:hover:before {color: black;}#sk-container-id-7 div.sk-estimator:hover label.sk-toggleable__label-arrow:before {color: black;}#sk-container-id-7 div.sk-toggleable__content {max-height: 0;max-width: 0;overflow: hidden;text-align: left;background-color: #f0f8ff;}#sk-container-id-7 div.sk-toggleable__content pre {margin: 0.2em;color: black;border-radius: 0.25em;background-color: #f0f8ff;}#sk-container-id-7 input.sk-toggleable__control:checked~div.sk-toggleable__content {max-height: 200px;max-width: 100%;overflow: auto;}#sk-container-id-7 input.sk-toggleable__control:checked~label.sk-toggleable__label-arrow:before {content: \"▾\";}#sk-container-id-7 div.sk-estimator input.sk-toggleable__control:checked~label.sk-toggleable__label {background-color: #d4ebff;}#sk-container-id-7 div.sk-label input.sk-toggleable__control:checked~label.sk-toggleable__label {background-color: #d4ebff;}#sk-container-id-7 input.sk-hidden--visually {border: 0;clip: rect(1px 1px 1px 1px);clip: rect(1px, 1px, 1px, 1px);height: 1px;margin: -1px;overflow: hidden;padding: 0;position: absolute;width: 1px;}#sk-container-id-7 div.sk-estimator {font-family: monospace;background-color: #f0f8ff;border: 1px dotted black;border-radius: 0.25em;box-sizing: border-box;margin-bottom: 0.5em;}#sk-container-id-7 div.sk-estimator:hover {background-color: #d4ebff;}#sk-container-id-7 div.sk-parallel-item::after {content: \"\";width: 100%;border-bottom: 1px solid gray;flex-grow: 1;}#sk-container-id-7 div.sk-label:hover label.sk-toggleable__label {background-color: #d4ebff;}#sk-container-id-7 div.sk-serial::before {content: \"\";position: absolute;border-left: 1px solid gray;box-sizing: border-box;top: 0;bottom: 0;left: 50%;z-index: 0;}#sk-container-id-7 div.sk-serial {display: flex;flex-direction: column;align-items: center;background-color: white;padding-right: 0.2em;padding-left: 0.2em;position: relative;}#sk-container-id-7 div.sk-item {position: relative;z-index: 1;}#sk-container-id-7 div.sk-parallel {display: flex;align-items: stretch;justify-content: center;background-color: white;position: relative;}#sk-container-id-7 div.sk-item::before, #sk-container-id-7 div.sk-parallel-item::before {content: \"\";position: absolute;border-left: 1px solid gray;box-sizing: border-box;top: 0;bottom: 0;left: 50%;z-index: -1;}#sk-container-id-7 div.sk-parallel-item {display: flex;flex-direction: column;z-index: 1;position: relative;background-color: white;}#sk-container-id-7 div.sk-parallel-item:first-child::after {align-self: flex-end;width: 50%;}#sk-container-id-7 div.sk-parallel-item:last-child::after {align-self: flex-start;width: 50%;}#sk-container-id-7 div.sk-parallel-item:only-child::after {width: 0;}#sk-container-id-7 div.sk-dashed-wrapped {border: 1px dashed gray;margin: 0 0.4em 0.5em 0.4em;box-sizing: border-box;padding-bottom: 0.4em;background-color: white;}#sk-container-id-7 div.sk-label label {font-family: monospace;font-weight: bold;display: inline-block;line-height: 1.2em;}#sk-container-id-7 div.sk-label-container {text-align: center;}#sk-container-id-7 div.sk-container {/* jupyter's `normalize.less` sets `[hidden] { display: none; }` but bootstrap.min.css set `[hidden] { display: none !important; }` so we also need the `!important` here to be able to override the default hidden behavior on the sphinx rendered scikit-learn.org. See: https://github.com/scikit-learn/scikit-learn/issues/21755 */display: inline-block !important;position: relative;}#sk-container-id-7 div.sk-text-repr-fallback {display: none;}</style><div id=\"sk-container-id-7\" class=\"sk-top-container\"><div class=\"sk-text-repr-fallback\"><pre>MLPRegressor(activation=&#x27;logistic&#x27;, hidden_layer_sizes=(256, 128, 64, 32),\n",
              "             max_iter=300, random_state=1)</pre><b>In a Jupyter environment, please rerun this cell to show the HTML representation or trust the notebook. <br />On GitHub, the HTML representation is unable to render, please try loading this page with nbviewer.org.</b></div><div class=\"sk-container\" hidden><div class=\"sk-item\"><div class=\"sk-estimator sk-toggleable\"><input class=\"sk-toggleable__control sk-hidden--visually\" id=\"sk-estimator-id-7\" type=\"checkbox\" checked><label for=\"sk-estimator-id-7\" class=\"sk-toggleable__label sk-toggleable__label-arrow\">MLPRegressor</label><div class=\"sk-toggleable__content\"><pre>MLPRegressor(activation=&#x27;logistic&#x27;, hidden_layer_sizes=(256, 128, 64, 32),\n",
              "             max_iter=300, random_state=1)</pre></div></div></div></div></div>"
            ]
          },
          "metadata": {},
          "execution_count": 120
        }
      ]
    },
    {
      "cell_type": "markdown",
      "source": [
        "# 7. Find the predicted concrete compressive strength for previously reserved test data sets and find the accuracy of the test set.\n"
      ],
      "metadata": {
        "id": "5apXJfG91UeB"
      }
    },
    {
      "cell_type": "code",
      "source": [
        "# 7. Find the predicted concrete compressive strength for previously reserved test data sets and find the accuracy of the test set.\n",
        "\n",
        "y_pred = mlp.predict(x_test_scl)\n",
        "\n",
        "print(mlp.score(x_test_scl, y_pred))"
      ],
      "metadata": {
        "colab": {
          "base_uri": "https://localhost:8080/"
        },
        "id": "w8iQfNKy1S2G",
        "outputId": "fef44377-ee3c-4818-fc99-b7bf1948418e"
      },
      "execution_count": 121,
      "outputs": [
        {
          "output_type": "stream",
          "name": "stdout",
          "text": [
            "1.0\n"
          ]
        }
      ]
    },
    {
      "cell_type": "markdown",
      "source": [
        "# 8. Do a cross validation for this model. Use the number of folds as 5\n"
      ],
      "metadata": {
        "id": "oPdZs0gn1ddB"
      }
    },
    {
      "cell_type": "code",
      "source": [
        "# 8. Do a cross validation for this model. Use the number of folds as 5\n",
        "# This may take some time\n",
        "from sklearn.model_selection import cross_val_score\n",
        "\n",
        "cross_val_scores = cross_val_score(mlp, x_train_scl, y_train, cv=5)"
      ],
      "metadata": {
        "id": "VPoqT_px1a1j"
      },
      "execution_count": 122,
      "outputs": []
    },
    {
      "cell_type": "markdown",
      "source": [
        "# 9. Plot the data using matplotlib.pyplot.boxplot\n"
      ],
      "metadata": {
        "id": "qSDm7Wph1uxd"
      }
    },
    {
      "cell_type": "markdown",
      "source": [
        "# Univariate analysis(Boxplot)"
      ],
      "metadata": {
        "id": "jpxT45WA29TN"
      }
    },
    {
      "cell_type": "code",
      "source": [
        "# 9. Plot the data using matplotlib.pyplot.boxplot\n",
        "import matplotlib.pyplot as plt\n",
        "\n",
        "plt.boxplot(cross_val_scores)\n",
        "plt.title(\"Box Plot of for Cross Val Scores\")\n",
        "plt.ylabel(\"Score\")\n",
        "plt.show()"
      ],
      "metadata": {
        "colab": {
          "base_uri": "https://localhost:8080/",
          "height": 452
        },
        "id": "J53NsjLl1t-Z",
        "outputId": "89b052ff-8125-4fd4-b7bf-61dd720b6e7e"
      },
      "execution_count": 123,
      "outputs": [
        {
          "output_type": "display_data",
          "data": {
            "text/plain": [
              "<Figure size 640x480 with 1 Axes>"
            ],
            "image/png": "[encoded data removed]"
          },
          "metadata": {}
        }
      ]
    }
  ]
}